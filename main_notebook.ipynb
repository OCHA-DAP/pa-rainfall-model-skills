{
 "cells": [
  {
   "attachments": {},
   "cell_type": "markdown",
   "metadata": {},
   "source": [
    "\n",
    "## Imports"
   ]
  },
  {
   "cell_type": "code",
   "execution_count": null,
   "metadata": {},
   "outputs": [],
   "source": [
    "%load_ext autoreload\n",
    "%autoreload 2"
   ]
  },
  {
   "cell_type": "code",
   "execution_count": null,
   "metadata": {
    "tags": []
   },
   "outputs": [],
   "source": [
    "from bokeh.models import FixedTicker\n",
    "from utils import *\n",
    "\n",
    "from dotenv import load_dotenv\n",
    "import geopandas as gpd\n",
    "import geoviews as gv\n",
    "import geoviews.feature as gf\n",
    "import hvplot.pandas\n",
    "import hvplot.xarray\n",
    "import os\n",
    "import pandas as pd\n",
    "import seaborn as sns\n",
    "import xagg as xa\n",
    "import xarray as xr"
   ]
  },
  {
   "attachments": {},
   "cell_type": "markdown",
   "metadata": {
    "tags": []
   },
   "source": [
    "## Set environment variables"
   ]
  },
  {
   "cell_type": "code",
   "execution_count": null,
   "metadata": {},
   "outputs": [],
   "source": [
    "load_dotenv()\n",
    "\n",
    "os.environ['OAP_DATA_DIR'] = \"/home/daniele/Documents/CHD/CHD_Python_projects/pa-aa-toolbox-folder/\"\n",
    "os.environ['IRI_AUTH'] = os.getenv(\"IRI_AUTH\")\n",
    "tchad_config_file = \"config/countries/tcd_adm0.yaml\""
   ]
  },
  {
   "attachments": {},
   "cell_type": "markdown",
   "metadata": {},
   "source": [
    "## Create country configuration"
   ]
  },
  {
   "cell_type": "code",
   "execution_count": null,
   "metadata": {},
   "outputs": [],
   "source": [
    "country_config, geobb = create_area(tchad_config_file)"
   ]
  },
  {
   "attachments": {},
   "cell_type": "markdown",
   "metadata": {},
   "source": [
    "## Create IRI terciles"
   ]
  },
  {
   "cell_type": "code",
   "execution_count": null,
   "metadata": {},
   "outputs": [],
   "source": [
    "ds_iri_terciles = iri_terciles_create(\n",
    "    country_config=country_config, \n",
    "    geobb=geobb,\n",
    "    only_dominant=False\n",
    ")\n",
    "ds_iri_tercile_dominant = calculate_dominant_tercile(ds_iri_terciles)"
   ]
  },
  {
   "attachments": {},
   "cell_type": "markdown",
   "metadata": {},
   "source": [
    "## Create CHIRPS terciles"
   ]
  },
  {
   "cell_type": "code",
   "execution_count": null,
   "metadata": {
    "scrolled": true,
    "tags": []
   },
   "outputs": [],
   "source": [
    "ds_chirps_terciles = chirps_terciles_create(\n",
    "    country_config=country_config, \n",
    "    geobb=geobb,\n",
    "    adapt_coordinates=True,\n",
    "    ds_ref=ds_iri_terciles\n",
    ")\n",
    "ds_chirps_tercile_dominant = calculate_dominant_tercile(ds_chirps_terciles)"
   ]
  },
  {
   "attachments": {},
   "cell_type": "markdown",
   "metadata": {},
   "source": [
    "## Create ECMWF terciles"
   ]
  },
  {
   "cell_type": "code",
   "execution_count": null,
   "metadata": {
    "scrolled": true,
    "tags": []
   },
   "outputs": [],
   "source": [
    "ds_ecmwf_terciles = ecmwf_terciles_create(\n",
    "    country_config=country_config, \n",
    "    geobb=geobb,\n",
    "    adapt_coordinates=True,\n",
    "    ds_ref=ds_iri_terciles,\n",
    ")\n",
    "ds_ecmwf_tercile_dominant = calculate_dominant_tercile(ds_ecmwf_terciles)"
   ]
  },
  {
   "attachments": {},
   "cell_type": "markdown",
   "metadata": {},
   "source": [
    "## Adapt coordinates for IRI"
   ]
  },
  {
   "cell_type": "code",
   "execution_count": null,
   "metadata": {},
   "outputs": [],
   "source": [
    "ds_iri_tercile_dominant = ds_iri_tercile_dominant.sel(latitude=ds_ecmwf_tercile_dominant.latitude)\n",
    "ds_iri_tercile_dominant = ds_iri_tercile_dominant.sel(longitude=ds_ecmwf_tercile_dominant.longitude)"
   ]
  },
  {
   "attachments": {},
   "cell_type": "markdown",
   "metadata": {},
   "source": [
    "## Visualise terciles"
   ]
  },
  {
   "cell_type": "code",
   "execution_count": null,
   "metadata": {},
   "outputs": [],
   "source": [
    "plot_tercile(\n",
    "    ds_chirps_tercile_dominant,\n",
    "    \"3\",\n",
    "    \"CHIRPS\"\n",
    ")"
   ]
  },
  {
   "cell_type": "code",
   "execution_count": null,
   "metadata": {},
   "outputs": [],
   "source": [
    "plot_tercile(\n",
    "    ds_iri_tercile_dominant,\n",
    "    \"3\",\n",
    "    \"IRI\"\n",
    ")"
   ]
  },
  {
   "cell_type": "code",
   "execution_count": null,
   "metadata": {},
   "outputs": [],
   "source": [
    "plot_tercile(\n",
    "    ds_ecmwf_tercile_dominant,\n",
    "    \"3\",\n",
    "    \"ECMWF\"\n",
    ")"
   ]
  },
  {
   "attachments": {},
   "cell_type": "markdown",
   "metadata": {},
   "source": [
    "## Calculate metrics: accuracy and F1 score"
   ]
  },
  {
   "attachments": {},
   "cell_type": "markdown",
   "metadata": {},
   "source": [
    "### Full results"
   ]
  },
  {
   "cell_type": "code",
   "execution_count": null,
   "metadata": {},
   "outputs": [],
   "source": [
    "score_dataset = compute_scores(\n",
    "    ds_chirps_tercile_dominant=ds_chirps_tercile_dominant,\n",
    "    ds_iri_tercile_dominant=ds_iri_tercile_dominant,\n",
    "    ds_ecmwf_tercile_dominant=ds_ecmwf_tercile_dominant,\n",
    "    allign_timeframes=False,\n",
    "    verbose=True,\n",
    ")"
   ]
  },
  {
   "attachments": {},
   "cell_type": "markdown",
   "metadata": {},
   "source": [
    "### Results for restricted time"
   ]
  },
  {
   "cell_type": "code",
   "execution_count": null,
   "metadata": {},
   "outputs": [],
   "source": [
    "score_dataset_allign_timeframe = compute_scores(\n",
    "    ds_chirps_tercile_dominant=ds_chirps_tercile_dominant,\n",
    "    ds_iri_tercile_dominant=ds_iri_tercile_dominant,\n",
    "    ds_ecmwf_tercile_dominant=ds_ecmwf_tercile_dominant,\n",
    "    allign_timeframes=False,\n",
    "    verbose=True,\n",
    ")"
   ]
  },
  {
   "attachments": {},
   "cell_type": "markdown",
   "metadata": {},
   "source": [
    "## Plot raster scores"
   ]
  },
  {
   "cell_type": "code",
   "execution_count": null,
   "metadata": {},
   "outputs": [],
   "source": [
    "plot_scores(\n",
    "    score_dataset=score_dataset,\n",
    "    season='JJA',\n",
    "    ltime=\"3\",\n",
    "    dataset=\"IRI\",\n",
    "    metric='Accuracy'\n",
    ")"
   ]
  },
  {
   "attachments": {},
   "cell_type": "markdown",
   "metadata": {},
   "source": [
    "## Sahel Strip Analysis"
   ]
  },
  {
   "attachments": {},
   "cell_type": "markdown",
   "metadata": {},
   "source": [
    "### Load polyfon"
   ]
  },
  {
   "cell_type": "code",
   "execution_count": null,
   "metadata": {},
   "outputs": [],
   "source": [
    "tchad_gdf = gpd.read_file('./data/tcd_sahel_strip_ocha.shp')"
   ]
  },
  {
   "attachments": {},
   "cell_type": "markdown",
   "metadata": {},
   "source": [
    "### Aggregate scores"
   ]
  },
  {
   "cell_type": "code",
   "execution_count": null,
   "metadata": {},
   "outputs": [],
   "source": [
    "df = aggregate_scores(\n",
    "    score_dataset=score_dataset,\n",
    "    gdf=tchad_gdf,\n",
    "    method=\"pandas\",\n",
    ")"
   ]
  },
  {
   "cell_type": "code",
   "execution_count": null,
   "metadata": {},
   "outputs": [],
   "source": [
    "df_alligned_timeframe = aggregate_scores(\n",
    "    score_dataset=score_dataset_allign_timeframe,\n",
    "    gdf=tchad_gdf,\n",
    "    method=\"pandas\",\n",
    ")"
   ]
  },
  {
   "attachments": {},
   "cell_type": "markdown",
   "metadata": {},
   "source": [
    "### Plot aggregated scores (barplots)"
   ]
  },
  {
   "cell_type": "code",
   "execution_count": null,
   "metadata": {},
   "outputs": [],
   "source": [
    "plot_aggregated_scores_barplot(\n",
    "    df=df, \n",
    "    timeframe='full timeframes', \n",
    "    score_metric='f1 score', \n",
    "    threshold='Lower tercile, probability greater than 0.4', \n",
    "    leadtime=\"3\"\n",
    ")\n",
    "        "
   ]
  },
  {
   "cell_type": "code",
   "execution_count": null,
   "metadata": {
    "scrolled": true
   },
   "outputs": [],
   "source": [
    "plot_aggregated_scores_barplot(\n",
    "    df=df_alligned_timeframe, \n",
    "    timeframe='alligned timeframes', \n",
    "    score_metric='f1 score', \n",
    "    threshold='Lower tercile, probability greater than 0.4', \n",
    "    leadtime=\"3\"\n",
    ")"
   ]
  },
  {
   "attachments": {},
   "cell_type": "markdown",
   "metadata": {},
   "source": [
    "### Plot aggregated scores (heatmaps)"
   ]
  },
  {
   "cell_type": "code",
   "execution_count": null,
   "metadata": {},
   "outputs": [],
   "source": [
    "for season in ['MJJ', 'JJA', 'JAS', 'ASO']:\n",
    "    for dataset in ['ecmwf', 'iri']:\n",
    "        plot_aggregated_scores_heatmap(\n",
    "            df=df,\n",
    "            dataset=dataset,\n",
    "            season=season\n",
    "        )"
   ]
  }
 ],
 "metadata": {
  "kernelspec": {
   "display_name": "Python [conda env:aa-toolbox-user]",
   "language": "python",
   "name": "conda-env-aa-toolbox-user-py"
  },
  "language_info": {
   "codemirror_mode": {
    "name": "ipython",
    "version": 3
   },
   "file_extension": ".py",
   "mimetype": "text/x-python",
   "name": "python",
   "nbconvert_exporter": "python",
   "pygments_lexer": "ipython3",
   "version": "3.9.16"
  },
  "vscode": {
   "interpreter": {
    "hash": "e3a84c259f6b58d590ef7c1b04c905dbca7434292bde8564a04bf3fac40c0c80"
   }
  }
 },
 "nbformat": 4,
 "nbformat_minor": 4
}
